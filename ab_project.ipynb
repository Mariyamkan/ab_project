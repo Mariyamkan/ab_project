{
 "cells": [
  {
   "cell_type": "markdown",
   "id": "0180f907",
   "metadata": {},
   "source": [
    "# Анализ АБ-теста по ключевым метрикам\n",
    "\n",
    "## Введение\n",
    "\n",
    "В этом проекте мы проводим анализ АБ-теста для проверки гипотезы о том, что нет статистически значимой разницы между контрольной и тестовой группами по следующим показателям:\n",
    "\n",
    "- Количество поисков\n",
    "- Количество просмотров контента\n",
    "- Количество добавок в корзину\n",
    "- Количество отзывов (# of impressions)\n",
    "\n",
    "\n",
    "## Гипотезы\n",
    "\n",
    "1. **Поиск:**\n",
    "   - H1: Между группами есть значимая разница в количестве поисков\n",
    "   - H0: Между группами нет значимой разницы в количестве поисков\n",
    "\n",
    "2. **Просмотр контента:**\n",
    "   - H1: Между группами есть значимая разница в количестве просмотров контента\n",
    "   - H0: Между группами нет значимой разницы в количестве просмотров контента\n",
    "\n",
    "3. **Добавки в корзину:**\n",
    "   - H1: Между группами есть значимая разница в количестве добавок в корзину\n",
    "   - H0: Между группами нет значимой разницы в количестве добавок в корзину\n",
    "\n",
    "4. **Отзывы:**\n",
    "   - H1: Между группами есть значимая разница в количестве отзывов\n",
    "   - H0: Между группами нет значимой разницы в количестве отзывов"
   ]
  },
  {
   "cell_type": "markdown",
   "id": "f552e76e",
   "metadata": {},
   "source": [
    "### Загружаем данные"
   ]
  },
  {
   "cell_type": "code",
   "execution_count": 1,
   "id": "7cd987ab",
   "metadata": {},
   "outputs": [],
   "source": [
    "import pandas as pd \n",
    "import seaborn as sns\n",
    "import numpy as np"
   ]
  },
  {
   "cell_type": "code",
   "execution_count": 2,
   "id": "852caa95",
   "metadata": {},
   "outputs": [],
   "source": [
    "df = pd.read_excel('ab_7_data.xlsx', index_col = 0)"
   ]
  },
  {
   "cell_type": "code",
   "execution_count": 3,
   "id": "406d955f",
   "metadata": {},
   "outputs": [
    {
     "data": {
      "text/html": [
       "<div>\n",
       "<style scoped>\n",
       "    .dataframe tbody tr th:only-of-type {\n",
       "        vertical-align: middle;\n",
       "    }\n",
       "\n",
       "    .dataframe tbody tr th {\n",
       "        vertical-align: top;\n",
       "    }\n",
       "\n",
       "    .dataframe thead th {\n",
       "        text-align: right;\n",
       "    }\n",
       "</style>\n",
       "<table border=\"1\" class=\"dataframe\">\n",
       "  <thead>\n",
       "    <tr style=\"text-align: right;\">\n",
       "      <th></th>\n",
       "      <th>index</th>\n",
       "      <th>Campaign Name</th>\n",
       "      <th>Date</th>\n",
       "      <th>Spend [USD]</th>\n",
       "      <th># of Impressions</th>\n",
       "      <th>Reach</th>\n",
       "      <th># of Website Clicks</th>\n",
       "      <th># of Searches</th>\n",
       "      <th># of View Content</th>\n",
       "      <th># of Add to Cart</th>\n",
       "      <th># of Purchase</th>\n",
       "    </tr>\n",
       "  </thead>\n",
       "  <tbody>\n",
       "    <tr>\n",
       "      <th>0</th>\n",
       "      <td>0</td>\n",
       "      <td>Test Campaign</td>\n",
       "      <td>1.08.2019</td>\n",
       "      <td>3008</td>\n",
       "      <td>39550.0</td>\n",
       "      <td>35820.0</td>\n",
       "      <td>3038.0</td>\n",
       "      <td>1946.0</td>\n",
       "      <td>1069.0</td>\n",
       "      <td>894.0</td>\n",
       "      <td>255.0</td>\n",
       "    </tr>\n",
       "    <tr>\n",
       "      <th>1</th>\n",
       "      <td>1</td>\n",
       "      <td>Test Campaign</td>\n",
       "      <td>2.08.2019</td>\n",
       "      <td>2542</td>\n",
       "      <td>100719.0</td>\n",
       "      <td>91236.0</td>\n",
       "      <td>4657.0</td>\n",
       "      <td>2359.0</td>\n",
       "      <td>1548.0</td>\n",
       "      <td>879.0</td>\n",
       "      <td>677.0</td>\n",
       "    </tr>\n",
       "    <tr>\n",
       "      <th>2</th>\n",
       "      <td>2</td>\n",
       "      <td>Test Campaign</td>\n",
       "      <td>3.08.2019</td>\n",
       "      <td>2365</td>\n",
       "      <td>70263.0</td>\n",
       "      <td>45198.0</td>\n",
       "      <td>7885.0</td>\n",
       "      <td>2572.0</td>\n",
       "      <td>2367.0</td>\n",
       "      <td>1268.0</td>\n",
       "      <td>578.0</td>\n",
       "    </tr>\n",
       "    <tr>\n",
       "      <th>3</th>\n",
       "      <td>3</td>\n",
       "      <td>Test Campaign</td>\n",
       "      <td>4.08.2019</td>\n",
       "      <td>2710</td>\n",
       "      <td>78451.0</td>\n",
       "      <td>25937.0</td>\n",
       "      <td>4216.0</td>\n",
       "      <td>2216.0</td>\n",
       "      <td>1437.0</td>\n",
       "      <td>566.0</td>\n",
       "      <td>340.0</td>\n",
       "    </tr>\n",
       "    <tr>\n",
       "      <th>4</th>\n",
       "      <td>4</td>\n",
       "      <td>Test Campaign</td>\n",
       "      <td>5.08.2019</td>\n",
       "      <td>2297</td>\n",
       "      <td>114295.0</td>\n",
       "      <td>95138.0</td>\n",
       "      <td>5863.0</td>\n",
       "      <td>2106.0</td>\n",
       "      <td>858.0</td>\n",
       "      <td>956.0</td>\n",
       "      <td>768.0</td>\n",
       "    </tr>\n",
       "  </tbody>\n",
       "</table>\n",
       "</div>"
      ],
      "text/plain": [
       "   index  Campaign Name       Date  Spend [USD]  # of Impressions    Reach  \\\n",
       "0      0  Test Campaign  1.08.2019         3008           39550.0  35820.0   \n",
       "1      1  Test Campaign  2.08.2019         2542          100719.0  91236.0   \n",
       "2      2  Test Campaign  3.08.2019         2365           70263.0  45198.0   \n",
       "3      3  Test Campaign  4.08.2019         2710           78451.0  25937.0   \n",
       "4      4  Test Campaign  5.08.2019         2297          114295.0  95138.0   \n",
       "\n",
       "   # of Website Clicks  # of Searches  # of View Content  # of Add to Cart  \\\n",
       "0               3038.0         1946.0             1069.0             894.0   \n",
       "1               4657.0         2359.0             1548.0             879.0   \n",
       "2               7885.0         2572.0             2367.0            1268.0   \n",
       "3               4216.0         2216.0             1437.0             566.0   \n",
       "4               5863.0         2106.0              858.0             956.0   \n",
       "\n",
       "   # of Purchase  \n",
       "0          255.0  \n",
       "1          677.0  \n",
       "2          578.0  \n",
       "3          340.0  \n",
       "4          768.0  "
      ]
     },
     "execution_count": 3,
     "metadata": {},
     "output_type": "execute_result"
    }
   ],
   "source": [
    "df.head()"
   ]
  },
  {
   "cell_type": "markdown",
   "id": "eab1916c",
   "metadata": {},
   "source": [
    "#### Переименовываем название столбцов для читабельности"
   ]
  },
  {
   "cell_type": "code",
   "execution_count": 4,
   "id": "54e9b283",
   "metadata": {},
   "outputs": [],
   "source": [
    "df = df.rename({'index':'client_id'}, axis = 1)"
   ]
  },
  {
   "cell_type": "code",
   "execution_count": 5,
   "id": "9d8d65e7",
   "metadata": {},
   "outputs": [],
   "source": [
    "df.rename({'Spend [USD]':'spend_usd'}, axis = 1, inplace = True)"
   ]
  },
  {
   "cell_type": "code",
   "execution_count": 6,
   "id": "ee83860d",
   "metadata": {},
   "outputs": [],
   "source": [
    "df.rename({'# of Impressions':'number_of_impressions'}, axis = 1, inplace = True)"
   ]
  },
  {
   "cell_type": "code",
   "execution_count": 7,
   "id": "9c951ddf",
   "metadata": {},
   "outputs": [],
   "source": [
    "df.rename({'# of Website Clicks':'number_of_clicks'}, axis = 1, inplace = True)"
   ]
  },
  {
   "cell_type": "code",
   "execution_count": 8,
   "id": "04e3cf47",
   "metadata": {},
   "outputs": [],
   "source": [
    "df.rename({'# of Searches':'number_of_searches'}, axis = 1, inplace = True)"
   ]
  },
  {
   "cell_type": "code",
   "execution_count": 9,
   "id": "b079e596",
   "metadata": {},
   "outputs": [],
   "source": [
    "df.rename({'# of View Content':'number_of_views'}, axis = 1, inplace = True)"
   ]
  },
  {
   "cell_type": "code",
   "execution_count": 10,
   "id": "24f7a5a5",
   "metadata": {},
   "outputs": [],
   "source": [
    "df.rename({'# of Add to Cart':'add_to_cart'}, axis = 1, inplace = True)"
   ]
  },
  {
   "cell_type": "code",
   "execution_count": 11,
   "id": "e00f4db5",
   "metadata": {},
   "outputs": [],
   "source": [
    "df.rename({'# of Purchase':'Purchases'}, axis = 1, inplace = True)"
   ]
  },
  {
   "cell_type": "markdown",
   "id": "5806be9e",
   "metadata": {},
   "source": [
    "#### Проверяем дубликаты "
   ]
  },
  {
   "cell_type": "code",
   "execution_count": 12,
   "id": "86951000",
   "metadata": {},
   "outputs": [],
   "source": [
    "df = df.dropna()"
   ]
  },
  {
   "cell_type": "code",
   "execution_count": 13,
   "id": "eeff53e7",
   "metadata": {},
   "outputs": [
    {
     "data": {
      "text/plain": [
       "59"
      ]
     },
     "execution_count": 13,
     "metadata": {},
     "output_type": "execute_result"
    }
   ],
   "source": [
    "df['client_id'].nunique()"
   ]
  },
  {
   "cell_type": "markdown",
   "id": "47db7876",
   "metadata": {},
   "source": [
    "Дубликаты не обнаружены"
   ]
  },
  {
   "cell_type": "code",
   "execution_count": 14,
   "id": "b0fb4f17",
   "metadata": {},
   "outputs": [
    {
     "name": "stdout",
     "output_type": "stream",
     "text": [
      "<class 'pandas.core.frame.DataFrame'>\n",
      "Index: 59 entries, 0 to 59\n",
      "Data columns (total 11 columns):\n",
      " #   Column                 Non-Null Count  Dtype  \n",
      "---  ------                 --------------  -----  \n",
      " 0   client_id              59 non-null     int64  \n",
      " 1   Campaign Name          59 non-null     object \n",
      " 2   Date                   59 non-null     object \n",
      " 3   spend_usd              59 non-null     int64  \n",
      " 4   number_of_impressions  59 non-null     float64\n",
      " 5   Reach                  59 non-null     float64\n",
      " 6   number_of_clicks       59 non-null     float64\n",
      " 7   number_of_searches     59 non-null     float64\n",
      " 8   number_of_views        59 non-null     float64\n",
      " 9   add_to_cart            59 non-null     float64\n",
      " 10  Purchases              59 non-null     float64\n",
      "dtypes: float64(7), int64(2), object(2)\n",
      "memory usage: 5.5+ KB\n"
     ]
    }
   ],
   "source": [
    "df.info()"
   ]
  },
  {
   "cell_type": "markdown",
   "id": "20f06246",
   "metadata": {},
   "source": [
    "## Проверка распределения данных\n",
    "Мы начинаем с проверки распределения данных для каждой из метрик. Это поможет нам лучше подобрать статистический тест для последующего анализа.\n"
   ]
  },
  {
   "cell_type": "code",
   "execution_count": 15,
   "id": "fd8909d3",
   "metadata": {},
   "outputs": [
    {
     "name": "stderr",
     "output_type": "stream",
     "text": [
      "C:\\Users\\kanat\\anaconda3\\Lib\\site-packages\\seaborn\\axisgrid.py:118: UserWarning: The figure layout has changed to tight\n",
      "  self._figure.tight_layout(*args, **kwargs)\n"
     ]
    },
    {
     "data": {
      "text/plain": [
       "<seaborn.axisgrid.FacetGrid at 0x219822e5290>"
      ]
     },
     "execution_count": 15,
     "metadata": {},
     "output_type": "execute_result"
    },
    {
     "data": {
      "image/png": "[encoded data removed]",
      "text/plain": [
       "<Figure size 500x500 with 1 Axes>"
      ]
     },
     "metadata": {},
     "output_type": "display_data"
    }
   ],
   "source": [
    "sns.displot(df['number_of_searches'])"
   ]
  },
  {
   "cell_type": "code",
   "execution_count": 16,
   "id": "ba19a4f9",
   "metadata": {},
   "outputs": [
    {
     "name": "stderr",
     "output_type": "stream",
     "text": [
      "C:\\Users\\kanat\\anaconda3\\Lib\\site-packages\\seaborn\\axisgrid.py:118: UserWarning: The figure layout has changed to tight\n",
      "  self._figure.tight_layout(*args, **kwargs)\n"
     ]
    },
    {
     "data": {
      "text/plain": [
       "<seaborn.axisgrid.FacetGrid at 0x21982c59750>"
      ]
     },
     "execution_count": 16,
     "metadata": {},
     "output_type": "execute_result"
    },
    {
     "data": {
      "image/png": "[encoded data removed]",
      "text/plain": [
       "<Figure size 500x500 with 1 Axes>"
      ]
     },
     "metadata": {},
     "output_type": "display_data"
    }
   ],
   "source": [
    "sns.displot(df['number_of_views'])"
   ]
  },
  {
   "cell_type": "code",
   "execution_count": 17,
   "id": "9085450a",
   "metadata": {},
   "outputs": [
    {
     "name": "stderr",
     "output_type": "stream",
     "text": [
      "C:\\Users\\kanat\\anaconda3\\Lib\\site-packages\\seaborn\\axisgrid.py:118: UserWarning: The figure layout has changed to tight\n",
      "  self._figure.tight_layout(*args, **kwargs)\n"
     ]
    },
    {
     "data": {
      "text/plain": [
       "<seaborn.axisgrid.FacetGrid at 0x21982cf1dd0>"
      ]
     },
     "execution_count": 17,
     "metadata": {},
     "output_type": "execute_result"
    },
    {
     "data": {
      "image/png": "[encoded data removed]",
      "text/plain": [
       "<Figure size 500x500 with 1 Axes>"
      ]
     },
     "metadata": {},
     "output_type": "display_data"
    }
   ],
   "source": [
    "sns.displot(df['add_to_cart'])"
   ]
  },
  {
   "cell_type": "code",
   "execution_count": 18,
   "id": "d4103958",
   "metadata": {},
   "outputs": [
    {
     "name": "stderr",
     "output_type": "stream",
     "text": [
      "C:\\Users\\kanat\\anaconda3\\Lib\\site-packages\\seaborn\\axisgrid.py:118: UserWarning: The figure layout has changed to tight\n",
      "  self._figure.tight_layout(*args, **kwargs)\n"
     ]
    },
    {
     "data": {
      "text/plain": [
       "<seaborn.axisgrid.FacetGrid at 0x219834f0e10>"
      ]
     },
     "execution_count": 18,
     "metadata": {},
     "output_type": "execute_result"
    },
    {
     "data": {
      "image/png": "[encoded data removed]",
      "text/plain": [
       "<Figure size 500x500 with 1 Axes>"
      ]
     },
     "metadata": {},
     "output_type": "display_data"
    }
   ],
   "source": [
    "sns.displot(df['number_of_impressions'])"
   ]
  },
  {
   "cell_type": "markdown",
   "id": "d57d4cd9",
   "metadata": {},
   "source": [
    "## Выбор статистического теста: Тест Манна-Уитни\n",
    "\n",
    "После визуальной проверки графиков распределения метрик мы обнаружили, что данные значительно отклоняются от нормального распределения. Таким образом, использование параметрических тестов, основанных на предположении о нормальности данных, не является подходящим.\n",
    "\n",
    "Для проверки данных гипотез лучше использовать Тест Манна-Уитни, потому что:\n",
    "\n",
    "- Ненормальное распределение данных\n",
    "- Независимые выборки: Тест Манна-Уитни применим для сравнения двух независимых выборок, что делает его подходящим для нашего анализа\n",
    "- Не чувствителен к выбросам"
   ]
  },
  {
   "cell_type": "markdown",
   "id": "33047394",
   "metadata": {},
   "source": [
    "## Подготовка данных и разделение на группы перед тестированием\n",
    "\n",
    "Для проведения анализа АБ-теста необходимо разделить данные на контрольную и тестовую группы. Мы добавляем столбец 'Group', который присваивает каждой записи значение 'A' для 'Control Campaign', 'B' для 'Test Campaign', и `None` для остальных случаев.\n",
    "\n"
   ]
  },
  {
   "cell_type": "code",
   "execution_count": 19,
   "id": "12abee0e",
   "metadata": {},
   "outputs": [],
   "source": [
    "def assign_group(row):\n",
    "    if row['Campaign Name'] == 'Test Campaign':\n",
    "        return 'B'\n",
    "    elif row['Campaign Name'] == 'Control Campaign':\n",
    "        return 'A'\n",
    "    else:\n",
    "        return None  \n",
    "\n",
    "df['Group'] = df.apply(assign_group, axis=1)"
   ]
  },
  {
   "cell_type": "code",
   "execution_count": 20,
   "id": "ea9a9e5d",
   "metadata": {},
   "outputs": [
    {
     "data": {
      "text/html": [
       "<div>\n",
       "<style scoped>\n",
       "    .dataframe tbody tr th:only-of-type {\n",
       "        vertical-align: middle;\n",
       "    }\n",
       "\n",
       "    .dataframe tbody tr th {\n",
       "        vertical-align: top;\n",
       "    }\n",
       "\n",
       "    .dataframe thead th {\n",
       "        text-align: right;\n",
       "    }\n",
       "</style>\n",
       "<table border=\"1\" class=\"dataframe\">\n",
       "  <thead>\n",
       "    <tr style=\"text-align: right;\">\n",
       "      <th></th>\n",
       "      <th>Group</th>\n",
       "      <th>client_id</th>\n",
       "    </tr>\n",
       "  </thead>\n",
       "  <tbody>\n",
       "    <tr>\n",
       "      <th>0</th>\n",
       "      <td>A</td>\n",
       "      <td>29</td>\n",
       "    </tr>\n",
       "    <tr>\n",
       "      <th>1</th>\n",
       "      <td>B</td>\n",
       "      <td>30</td>\n",
       "    </tr>\n",
       "  </tbody>\n",
       "</table>\n",
       "</div>"
      ],
      "text/plain": [
       "  Group  client_id\n",
       "0     A         29\n",
       "1     B         30"
      ]
     },
     "execution_count": 20,
     "metadata": {},
     "output_type": "execute_result"
    }
   ],
   "source": [
    "df.groupby('Group').agg({'client_id':'nunique'}).reset_index()"
   ]
  },
  {
   "cell_type": "code",
   "execution_count": 21,
   "id": "3f036a9d",
   "metadata": {},
   "outputs": [],
   "source": [
    "b = df.query('Group==\"B\"')\n",
    "a = df.query('Group==\"A\"')"
   ]
  },
  {
   "cell_type": "markdown",
   "id": "4c366024",
   "metadata": {},
   "source": [
    "#### Фильтрация данных по общему идентификатору 'client_id'"
   ]
  },
  {
   "cell_type": "code",
   "execution_count": 22,
   "id": "a3976f1a",
   "metadata": {},
   "outputs": [
    {
     "data": {
      "text/html": [
       "<div>\n",
       "<style scoped>\n",
       "    .dataframe tbody tr th:only-of-type {\n",
       "        vertical-align: middle;\n",
       "    }\n",
       "\n",
       "    .dataframe tbody tr th {\n",
       "        vertical-align: top;\n",
       "    }\n",
       "\n",
       "    .dataframe thead th {\n",
       "        text-align: right;\n",
       "    }\n",
       "</style>\n",
       "<table border=\"1\" class=\"dataframe\">\n",
       "  <thead>\n",
       "    <tr style=\"text-align: right;\">\n",
       "      <th></th>\n",
       "      <th>client_id</th>\n",
       "      <th>Campaign Name</th>\n",
       "      <th>Date</th>\n",
       "      <th>spend_usd</th>\n",
       "      <th>number_of_impressions</th>\n",
       "      <th>Reach</th>\n",
       "      <th>number_of_clicks</th>\n",
       "      <th>number_of_searches</th>\n",
       "      <th>number_of_views</th>\n",
       "      <th>add_to_cart</th>\n",
       "      <th>Purchases</th>\n",
       "      <th>Group</th>\n",
       "    </tr>\n",
       "  </thead>\n",
       "  <tbody>\n",
       "  </tbody>\n",
       "</table>\n",
       "</div>"
      ],
      "text/plain": [
       "Empty DataFrame\n",
       "Columns: [client_id, Campaign Name, Date, spend_usd, number_of_impressions, Reach, number_of_clicks, number_of_searches, number_of_views, add_to_cart, Purchases, Group]\n",
       "Index: []"
      ]
     },
     "execution_count": 22,
     "metadata": {},
     "output_type": "execute_result"
    }
   ],
   "source": [
    "b[b['client_id'].isin(a['client_id'])]"
   ]
  },
  {
   "cell_type": "code",
   "execution_count": 23,
   "id": "379fb2ec",
   "metadata": {},
   "outputs": [
    {
     "data": {
      "text/html": [
       "<div>\n",
       "<style scoped>\n",
       "    .dataframe tbody tr th:only-of-type {\n",
       "        vertical-align: middle;\n",
       "    }\n",
       "\n",
       "    .dataframe tbody tr th {\n",
       "        vertical-align: top;\n",
       "    }\n",
       "\n",
       "    .dataframe thead th {\n",
       "        text-align: right;\n",
       "    }\n",
       "</style>\n",
       "<table border=\"1\" class=\"dataframe\">\n",
       "  <thead>\n",
       "    <tr style=\"text-align: right;\">\n",
       "      <th></th>\n",
       "      <th>client_id</th>\n",
       "      <th>Campaign Name</th>\n",
       "      <th>Date</th>\n",
       "      <th>spend_usd</th>\n",
       "      <th>number_of_impressions</th>\n",
       "      <th>Reach</th>\n",
       "      <th>number_of_clicks</th>\n",
       "      <th>number_of_searches</th>\n",
       "      <th>number_of_views</th>\n",
       "      <th>add_to_cart</th>\n",
       "      <th>Purchases</th>\n",
       "      <th>Group</th>\n",
       "    </tr>\n",
       "  </thead>\n",
       "  <tbody>\n",
       "  </tbody>\n",
       "</table>\n",
       "</div>"
      ],
      "text/plain": [
       "Empty DataFrame\n",
       "Columns: [client_id, Campaign Name, Date, spend_usd, number_of_impressions, Reach, number_of_clicks, number_of_searches, number_of_views, add_to_cart, Purchases, Group]\n",
       "Index: []"
      ]
     },
     "execution_count": 23,
     "metadata": {},
     "output_type": "execute_result"
    }
   ],
   "source": [
    "a[a['client_id'].isin(b['client_id'])]"
   ]
  },
  {
   "cell_type": "markdown",
   "id": "7027a594",
   "metadata": {},
   "source": [
    "В результате фильтрации не обнаружено отклонений"
   ]
  },
  {
   "cell_type": "markdown",
   "id": "c34f102b",
   "metadata": {},
   "source": [
    "### Проверяем гипотезы\n"
   ]
  },
  {
   "cell_type": "code",
   "execution_count": 24,
   "id": "bc99886d",
   "metadata": {},
   "outputs": [],
   "source": [
    "from scipy.stats import mannwhitneyu"
   ]
  },
  {
   "cell_type": "code",
   "execution_count": 25,
   "id": "a1cc945e",
   "metadata": {},
   "outputs": [
    {
     "data": {
      "text/html": [
       "<div>\n",
       "<style scoped>\n",
       "    .dataframe tbody tr th:only-of-type {\n",
       "        vertical-align: middle;\n",
       "    }\n",
       "\n",
       "    .dataframe tbody tr th {\n",
       "        vertical-align: top;\n",
       "    }\n",
       "\n",
       "    .dataframe thead th {\n",
       "        text-align: right;\n",
       "    }\n",
       "</style>\n",
       "<table border=\"1\" class=\"dataframe\">\n",
       "  <thead>\n",
       "    <tr style=\"text-align: right;\">\n",
       "      <th></th>\n",
       "      <th>number_of_searches</th>\n",
       "    </tr>\n",
       "    <tr>\n",
       "      <th>Group</th>\n",
       "      <th></th>\n",
       "    </tr>\n",
       "  </thead>\n",
       "  <tbody>\n",
       "    <tr>\n",
       "      <th>A</th>\n",
       "      <td>29</td>\n",
       "    </tr>\n",
       "    <tr>\n",
       "      <th>B</th>\n",
       "      <td>30</td>\n",
       "    </tr>\n",
       "  </tbody>\n",
       "</table>\n",
       "</div>"
      ],
      "text/plain": [
       "       number_of_searches\n",
       "Group                    \n",
       "A                      29\n",
       "B                      30"
      ]
     },
     "execution_count": 25,
     "metadata": {},
     "output_type": "execute_result"
    }
   ],
   "source": [
    "df.groupby('Group').agg({'number_of_searches':'count'})"
   ]
  },
  {
   "cell_type": "code",
   "execution_count": 26,
   "id": "18decfdd",
   "metadata": {},
   "outputs": [
    {
     "data": {
      "text/plain": [
       "MannwhitneyuResult(statistic=346.0, pvalue=0.17964361698819864)"
      ]
     },
     "execution_count": 26,
     "metadata": {},
     "output_type": "execute_result"
    }
   ],
   "source": [
    "mannwhitneyu(a['number_of_searches'], b['number_of_searches'])"
   ]
  },
  {
   "cell_type": "markdown",
   "id": "3896eb1b",
   "metadata": {},
   "source": [
    "- Между группами нет значимой разницы в количестве поисков.\n",
    "- Использовали тест Манна Уитни, потому что распределение не нормальное."
   ]
  },
  {
   "cell_type": "code",
   "execution_count": 27,
   "id": "c93be3e7",
   "metadata": {},
   "outputs": [
    {
     "data": {
      "text/plain": [
       "MannwhitneyuResult(statistic=442.0, pvalue=0.9214899604244585)"
      ]
     },
     "execution_count": 27,
     "metadata": {},
     "output_type": "execute_result"
    }
   ],
   "source": [
    "mannwhitneyu(a['number_of_views'], b['number_of_views'])"
   ]
  },
  {
   "cell_type": "markdown",
   "id": "e053221f",
   "metadata": {},
   "source": [
    "- Между группами нет значимой разницы в количестве просмотров контента.\n",
    "- Использовали тест Манна Уитни, потому что распределение не нормальное."
   ]
  },
  {
   "cell_type": "code",
   "execution_count": 28,
   "id": "51863cc0",
   "metadata": {},
   "outputs": [
    {
     "data": {
      "text/plain": [
       "(4.24906420944249, 8.032960071149041e-05)"
      ]
     },
     "execution_count": 28,
     "metadata": {},
     "output_type": "execute_result"
    }
   ],
   "source": [
    "#mannwhitneyu(a['add_to_cart'], b['add_to_cart'])\n",
    "from scipy.stats import ttest_ind\n",
    "t_stat, p_value = ttest_ind(a['add_to_cart'], b['add_to_cart'])\n",
    "t_stat, p_value"
   ]
  },
  {
   "cell_type": "markdown",
   "id": "b257a907",
   "metadata": {},
   "source": [
    "- Между группами есть значимая разница в количестве добавок в корзину \n",
    "- Использовали тест Т сьюдента, потому что распределение близко к нормальному."
   ]
  },
  {
   "cell_type": "code",
   "execution_count": 29,
   "id": "88b4f2e0",
   "metadata": {},
   "outputs": [
    {
     "data": {
      "text/plain": [
       "MannwhitneyuResult(statistic=697.0, pvalue=7.344126278759323e-05)"
      ]
     },
     "execution_count": 29,
     "metadata": {},
     "output_type": "execute_result"
    }
   ],
   "source": [
    "mannwhitneyu(a['number_of_impressions'], b['number_of_impressions'])"
   ]
  },
  {
   "cell_type": "markdown",
   "id": "daa8515c",
   "metadata": {},
   "source": [
    "- Между группами нет значимой разницы в количестве отзывов\n",
    "- Использовали тест Манна Уитни, потому что распределение не нормальное."
   ]
  },
  {
   "cell_type": "markdown",
   "id": "b80d97f2",
   "metadata": {},
   "source": [
    "## Вывод и результаты анализа АБ-теста\n",
    "\n",
    "### Анализ количества поисков\n",
    "\n",
    "Проведенный тест Манна-Уитни для количества поисков в контрольной (`a`) и тестовой (`b`) группах не показал статистически значимой разницы (статистика теста = 346.0, p-value = 0.1796). Это свидетельствует о том, что между группами нет значимого различия в количестве поисков. Использование теста Манна-Уитни в данном случае обосновано, так как распределение данных не является нормальным.\n",
    "\n",
    "### Анализ количества просмотров контента\n",
    "\n",
    "Также для количества просмотров контента результаты теста Манна-Уитни не выявили статистически значимых различий между контрольной и тестовой группами (статистика теста = 442.0, p-value = 0.9215). Это подтверждает отсутствие значимой разницы в количестве просмотров контента между группами, и тест Манна-Уитни использован правильно, учитывая не нормальное распределение данных.\n",
    "\n",
    "### Анализ количества добавок в корзину\n",
    "\n",
    "Для количества добавок в корзину использовался t-тест Стьюдента, так как распределение данных близко к нормальному. Результаты теста показали статистически значимую разницу между группами (t-статистика = 4.25, p-value = 8.03e-05). Это говорит о том, что между контрольной и тестовой группами существует значимое различие в количестве добавок в корзину.\n",
    "\n",
    "### Анализ количества отзывов\n",
    "\n",
    "Тест Манна-Уитни для количества отзывов показал статистически значимую разницу между группами (статистика теста = 697.0, p-value = 7.34e-05). Таким образом, мы отвергаем нулевую гипотезу и утверждаем, что между контрольной и тестовой группами есть статистически значимая разница в количестве отзывов.\n",
    "\n",
    "### Общий вывод\n",
    "\n",
    "1. Для метрик \"Количество поисков\" и \"Количество просмотров контента\" не обнаружено статистически значимых различий между группами.\n",
    "2. Для метрики \"Количество добавок в корзину\" существует статистически значимая разница между контрольной и тестовой группами.\n",
    "3. Для метрики \"Количество отзывов\" также обнаружена статистически значимая разница между группами."
   ]
  }
 ],
 "metadata": {
  "kernelspec": {
   "display_name": "Python 3 (ipykernel)",
   "language": "python",
   "name": "python3"
  },
  "language_info": {
   "codemirror_mode": {
    "name": "ipython",
    "version": 3
   },
   "file_extension": ".py",
   "mimetype": "text/x-python",
   "name": "python",
   "nbconvert_exporter": "python",
   "pygments_lexer": "ipython3",
   "version": "3.11.5"
  }
 },
 "nbformat": 4,
 "nbformat_minor": 5
}
